{
  "nbformat": 4,
  "nbformat_minor": 0,
  "metadata": {
    "colab": {
      "name": "Untitled7.ipynb",
      "provenance": []
    },
    "kernelspec": {
      "name": "python3",
      "display_name": "Python 3"
    },
    "language_info": {
      "name": "python"
    }
  },
  "cells": [
    {
      "cell_type": "markdown",
      "source": [
        "**Graph list and Graph Adjacency Matrix**\n",
        "\n",
        "1- The graph adjacency matrix is a two dimensional matrix that stores the vertices of the graph.\n",
        "\n",
        "**Downside**\n",
        "\n",
        "- For small graphs, the matrix is sparse (not space efficient)\n",
        "\n",
        "**Graph List**\n",
        "\n",
        "1- More space efficient method of storing graphs"
      ],
      "metadata": {
        "id": "Dby0muZghB_X"
      }
    },
    {
      "cell_type": "code",
      "source": [
        "class Vertex:\n",
        "  def __init__(self,key):\n",
        "    self.id=key\n",
        "    self.connectedTo={}\n",
        "\n",
        "  def addNeighbor(self,nbr,weight=0):\n",
        "    self.connectedTo[nbr]=weight\n",
        "\n",
        "  def __str__(self):\n",
        "    return str(self.id) + \" connected to \" + str([x.id for x in self.connectedTo])\n",
        "\n",
        "  def getConnection(self):\n",
        "    return self.connectedTo.keys()\n",
        "\n",
        "  def getID(self):\n",
        "    return self.id\n",
        "  \n",
        "  def getWeight(self,nbr):\n",
        "    return self.connectedTo[nbr]"
      ],
      "metadata": {
        "id": "Yc7xP2_MhVAy"
      },
      "execution_count": 1,
      "outputs": []
    },
    {
      "cell_type": "code",
      "source": [
        "class Graph:\n",
        "  def __init__(self):\n",
        "    self.vertList={}\n",
        "    self.numVertices=0\n",
        "  \n",
        "  def addVertex(self,key):\n",
        "    self.numVertices+=1\n",
        "    newVertex=Vertex(key)\n",
        "    self.vertList[key]=newVertex\n",
        "    return newVertex\n",
        "\n",
        "  def getVertex(self,n):\n",
        "    if n in self.vertList:\n",
        "      return self.vertList[n]\n",
        "    else:\n",
        "      return None\n",
        "  \n",
        "  def __contains__(self,n):\n",
        "    return n in self.vertList\n",
        "  \n",
        "  def addEdge(self,f,t,cost=0):\n",
        "    if f not in self.vertList:\n",
        "      nv=self.addVertex(f)\n",
        "    if t not in self.vertList:\n",
        "      nv=self.addVertex(t)\n",
        "    \n",
        "    self.vertList[f].addNeighbor(self.vertList[t],cost)\n",
        "\n",
        "  def getVertices(self):\n",
        "    return self.vertList.keys()\n",
        "\n",
        "  def __iter__(self):\n",
        "    return iter(self.vertList.values())\n",
        "    \n",
        "  \n"
      ],
      "metadata": {
        "id": "JZRgbEDejh6h"
      },
      "execution_count": 21,
      "outputs": []
    },
    {
      "cell_type": "code",
      "source": [
        "g=Graph()"
      ],
      "metadata": {
        "id": "SMbK7qw9nHyn"
      },
      "execution_count": 22,
      "outputs": []
    },
    {
      "cell_type": "code",
      "source": [
        "g.vertList"
      ],
      "metadata": {
        "colab": {
          "base_uri": "https://localhost:8080/"
        },
        "id": "o-i2N2lBnP8-",
        "outputId": "22ee8d3c-21c0-4795-ba27-ff8f08b13b5d"
      },
      "execution_count": 24,
      "outputs": [
        {
          "output_type": "execute_result",
          "data": {
            "text/plain": [
              "{}"
            ]
          },
          "metadata": {},
          "execution_count": 24
        }
      ]
    },
    {
      "cell_type": "code",
      "source": [
        "g.addVertex(0)"
      ],
      "metadata": {
        "colab": {
          "base_uri": "https://localhost:8080/"
        },
        "id": "tAjkcLa3nRd3",
        "outputId": "bff4b252-ae6b-4232-8f9c-b4d241d9abb9"
      },
      "execution_count": 25,
      "outputs": [
        {
          "output_type": "execute_result",
          "data": {
            "text/plain": [
              "<__main__.Vertex at 0x7f12e259a390>"
            ]
          },
          "metadata": {},
          "execution_count": 25
        }
      ]
    },
    {
      "cell_type": "code",
      "source": [
        "g.numVertices"
      ],
      "metadata": {
        "colab": {
          "base_uri": "https://localhost:8080/"
        },
        "id": "oLREBOS-nX9Z",
        "outputId": "356ec868-2d81-44ef-97f0-1d000ad25f38"
      },
      "execution_count": 26,
      "outputs": [
        {
          "output_type": "execute_result",
          "data": {
            "text/plain": [
              "1"
            ]
          },
          "metadata": {},
          "execution_count": 26
        }
      ]
    },
    {
      "cell_type": "code",
      "source": [
        "g.addEdge(0,1,2)"
      ],
      "metadata": {
        "id": "jNITm1HineL9"
      },
      "execution_count": 27,
      "outputs": []
    },
    {
      "cell_type": "code",
      "source": [
        "g.numVertices"
      ],
      "metadata": {
        "colab": {
          "base_uri": "https://localhost:8080/"
        },
        "id": "ur9kR_RxnjGg",
        "outputId": "d1559992-9244-4c40-bb6b-46777b64db4b"
      },
      "execution_count": 28,
      "outputs": [
        {
          "output_type": "execute_result",
          "data": {
            "text/plain": [
              "2"
            ]
          },
          "metadata": {},
          "execution_count": 28
        }
      ]
    },
    {
      "cell_type": "code",
      "source": [
        "g.getVertices()"
      ],
      "metadata": {
        "colab": {
          "base_uri": "https://localhost:8080/"
        },
        "id": "HOPAA1udo2Is",
        "outputId": "9c141b4f-9b35-4805-c862-0f0d65eea097"
      },
      "execution_count": 32,
      "outputs": [
        {
          "output_type": "execute_result",
          "data": {
            "text/plain": [
              "dict_keys([0, 1])"
            ]
          },
          "metadata": {},
          "execution_count": 32
        }
      ]
    },
    {
      "cell_type": "code",
      "source": [
        "g.vertList"
      ],
      "metadata": {
        "colab": {
          "base_uri": "https://localhost:8080/"
        },
        "id": "GPspH7eIo41A",
        "outputId": "e734a343-fd17-47cb-c91d-ef5ceae56960"
      },
      "execution_count": 34,
      "outputs": [
        {
          "output_type": "execute_result",
          "data": {
            "text/plain": [
              "{0: <__main__.Vertex at 0x7f12e259a390>,\n",
              " 1: <__main__.Vertex at 0x7f12e259ac10>}"
            ]
          },
          "metadata": {},
          "execution_count": 34
        }
      ]
    },
    {
      "cell_type": "code",
      "source": [
        "for vertex in g:\n",
        "  print(vertex)\n",
        "  print(vertex.getConnection())"
      ],
      "metadata": {
        "colab": {
          "base_uri": "https://localhost:8080/"
        },
        "id": "4hAUFKc5pJ7C",
        "outputId": "4bb972c1-b7fc-4b3c-f878-1f254d60312d"
      },
      "execution_count": 37,
      "outputs": [
        {
          "output_type": "stream",
          "name": "stdout",
          "text": [
            "0 connected to [1]\n",
            "dict_keys([<__main__.Vertex object at 0x7f12e259ac10>])\n",
            "1 connected to []\n",
            "dict_keys([])\n"
          ]
        }
      ]
    },
    {
      "cell_type": "code",
      "source": [
        ""
      ],
      "metadata": {
        "id": "VfUig3ENpcc9"
      },
      "execution_count": null,
      "outputs": []
    }
  ]
}